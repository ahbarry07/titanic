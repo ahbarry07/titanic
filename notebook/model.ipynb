{
 "cells": [
  {
   "cell_type": "code",
   "execution_count": 100,
   "metadata": {},
   "outputs": [],
   "source": [
    "from sklearn.model_selection import GridSearchCV, train_test_split\n",
    "from sklearn.preprocessing import StandardScaler, LabelEncoder\n",
    "from sklearn.ensemble import RandomForestClassifier\n",
    "from sklearn.metrics import accuracy_score\n",
    "import pandas as pd\n",
    "import warnings"
   ]
  },
  {
   "cell_type": "markdown",
   "metadata": {},
   "source": [
    "### Load data"
   ]
  },
  {
   "cell_type": "code",
   "execution_count": 101,
   "metadata": {},
   "outputs": [
    {
     "data": {
      "text/html": [
       "<div>\n",
       "<style scoped>\n",
       "    .dataframe tbody tr th:only-of-type {\n",
       "        vertical-align: middle;\n",
       "    }\n",
       "\n",
       "    .dataframe tbody tr th {\n",
       "        vertical-align: top;\n",
       "    }\n",
       "\n",
       "    .dataframe thead th {\n",
       "        text-align: right;\n",
       "    }\n",
       "</style>\n",
       "<table border=\"1\" class=\"dataframe\">\n",
       "  <thead>\n",
       "    <tr style=\"text-align: right;\">\n",
       "      <th></th>\n",
       "      <th>PassengerId</th>\n",
       "      <th>Survived</th>\n",
       "      <th>Pclass</th>\n",
       "      <th>Name</th>\n",
       "      <th>Sex</th>\n",
       "      <th>Age</th>\n",
       "      <th>SibSp</th>\n",
       "      <th>Parch</th>\n",
       "      <th>Ticket</th>\n",
       "      <th>Fare</th>\n",
       "      <th>Cabin</th>\n",
       "      <th>Embarked</th>\n",
       "    </tr>\n",
       "  </thead>\n",
       "  <tbody>\n",
       "    <tr>\n",
       "      <th>0</th>\n",
       "      <td>1</td>\n",
       "      <td>0</td>\n",
       "      <td>3</td>\n",
       "      <td>Braund, Mr. Owen Harris</td>\n",
       "      <td>male</td>\n",
       "      <td>22.0</td>\n",
       "      <td>1</td>\n",
       "      <td>0</td>\n",
       "      <td>A/5 21171</td>\n",
       "      <td>7.2500</td>\n",
       "      <td>NaN</td>\n",
       "      <td>S</td>\n",
       "    </tr>\n",
       "    <tr>\n",
       "      <th>1</th>\n",
       "      <td>2</td>\n",
       "      <td>1</td>\n",
       "      <td>1</td>\n",
       "      <td>Cumings, Mrs. John Bradley (Florence Briggs Th...</td>\n",
       "      <td>female</td>\n",
       "      <td>38.0</td>\n",
       "      <td>1</td>\n",
       "      <td>0</td>\n",
       "      <td>PC 17599</td>\n",
       "      <td>71.2833</td>\n",
       "      <td>C85</td>\n",
       "      <td>C</td>\n",
       "    </tr>\n",
       "    <tr>\n",
       "      <th>2</th>\n",
       "      <td>3</td>\n",
       "      <td>1</td>\n",
       "      <td>3</td>\n",
       "      <td>Heikkinen, Miss. Laina</td>\n",
       "      <td>female</td>\n",
       "      <td>26.0</td>\n",
       "      <td>0</td>\n",
       "      <td>0</td>\n",
       "      <td>STON/O2. 3101282</td>\n",
       "      <td>7.9250</td>\n",
       "      <td>NaN</td>\n",
       "      <td>S</td>\n",
       "    </tr>\n",
       "    <tr>\n",
       "      <th>3</th>\n",
       "      <td>4</td>\n",
       "      <td>1</td>\n",
       "      <td>1</td>\n",
       "      <td>Futrelle, Mrs. Jacques Heath (Lily May Peel)</td>\n",
       "      <td>female</td>\n",
       "      <td>35.0</td>\n",
       "      <td>1</td>\n",
       "      <td>0</td>\n",
       "      <td>113803</td>\n",
       "      <td>53.1000</td>\n",
       "      <td>C123</td>\n",
       "      <td>S</td>\n",
       "    </tr>\n",
       "    <tr>\n",
       "      <th>4</th>\n",
       "      <td>5</td>\n",
       "      <td>0</td>\n",
       "      <td>3</td>\n",
       "      <td>Allen, Mr. William Henry</td>\n",
       "      <td>male</td>\n",
       "      <td>35.0</td>\n",
       "      <td>0</td>\n",
       "      <td>0</td>\n",
       "      <td>373450</td>\n",
       "      <td>8.0500</td>\n",
       "      <td>NaN</td>\n",
       "      <td>S</td>\n",
       "    </tr>\n",
       "  </tbody>\n",
       "</table>\n",
       "</div>"
      ],
      "text/plain": [
       "   PassengerId  Survived  Pclass  \\\n",
       "0            1         0       3   \n",
       "1            2         1       1   \n",
       "2            3         1       3   \n",
       "3            4         1       1   \n",
       "4            5         0       3   \n",
       "\n",
       "                                                Name     Sex   Age  SibSp  \\\n",
       "0                            Braund, Mr. Owen Harris    male  22.0      1   \n",
       "1  Cumings, Mrs. John Bradley (Florence Briggs Th...  female  38.0      1   \n",
       "2                             Heikkinen, Miss. Laina  female  26.0      0   \n",
       "3       Futrelle, Mrs. Jacques Heath (Lily May Peel)  female  35.0      1   \n",
       "4                           Allen, Mr. William Henry    male  35.0      0   \n",
       "\n",
       "   Parch            Ticket     Fare Cabin Embarked  \n",
       "0      0         A/5 21171   7.2500   NaN        S  \n",
       "1      0          PC 17599  71.2833   C85        C  \n",
       "2      0  STON/O2. 3101282   7.9250   NaN        S  \n",
       "3      0            113803  53.1000  C123        S  \n",
       "4      0            373450   8.0500   NaN        S  "
      ]
     },
     "execution_count": 101,
     "metadata": {},
     "output_type": "execute_result"
    }
   ],
   "source": [
    "warnings.filterwarnings('ignore')\n",
    "train_titanic_df = pd.read_csv('../data/train.csv')\n",
    "test_titanic_df = pd.read_csv('../data/test.csv')\n",
    "train_titanic_df.head()"
   ]
  },
  {
   "cell_type": "markdown",
   "metadata": {},
   "source": [
    "### Show data info"
   ]
  },
  {
   "cell_type": "code",
   "execution_count": 102,
   "metadata": {},
   "outputs": [
    {
     "name": "stdout",
     "output_type": "stream",
     "text": [
      "<class 'pandas.core.frame.DataFrame'>\n",
      "RangeIndex: 891 entries, 0 to 890\n",
      "Data columns (total 12 columns):\n",
      " #   Column       Non-Null Count  Dtype  \n",
      "---  ------       --------------  -----  \n",
      " 0   PassengerId  891 non-null    int64  \n",
      " 1   Survived     891 non-null    int64  \n",
      " 2   Pclass       891 non-null    int64  \n",
      " 3   Name         891 non-null    object \n",
      " 4   Sex          891 non-null    object \n",
      " 5   Age          714 non-null    float64\n",
      " 6   SibSp        891 non-null    int64  \n",
      " 7   Parch        891 non-null    int64  \n",
      " 8   Ticket       891 non-null    object \n",
      " 9   Fare         891 non-null    float64\n",
      " 10  Cabin        204 non-null    object \n",
      " 11  Embarked     889 non-null    object \n",
      "dtypes: float64(2), int64(5), object(5)\n",
      "memory usage: 83.7+ KB\n"
     ]
    }
   ],
   "source": [
    "train_titanic_df.info()"
   ]
  },
  {
   "cell_type": "markdown",
   "metadata": {},
   "source": [
    "### Show the number of missing value in each column"
   ]
  },
  {
   "cell_type": "code",
   "execution_count": 103,
   "metadata": {},
   "outputs": [
    {
     "name": "stdout",
     "output_type": "stream",
     "text": [
      "|             |   0 |\n",
      "|:------------|----:|\n",
      "| PassengerId |   0 |\n",
      "| Survived    |   0 |\n",
      "| Pclass      |   0 |\n",
      "| Name        |   0 |\n",
      "| Sex         |   0 |\n",
      "| Age         | 177 |\n",
      "| SibSp       |   0 |\n",
      "| Parch       |   0 |\n",
      "| Ticket      |   0 |\n",
      "| Fare        |   0 |\n",
      "| Cabin       | 687 |\n",
      "| Embarked    |   2 |\n"
     ]
    }
   ],
   "source": [
    "print(train_titanic_df.isna().sum().to_markdown())"
   ]
  },
  {
   "cell_type": "code",
   "execution_count": 104,
   "metadata": {},
   "outputs": [],
   "source": [
    "def preprocessing(titanic_df):\n",
    "    '''Preprocesses dataset by handling missing values, creating new features, \n",
    "    and encoding categorical variables.\n",
    "\n",
    "    - Extracts passenger titles from the \"Name\" column and stores them in \"Name_Title\".\n",
    "    - Fills missing \"Age\" values with the mean age of passengers sharing the same \"Pclass\" and \"Name_Title\".\n",
    "    - Creates a new feature \"Family_Size\" by summing \"Parch\" (parents/children) and \"SibSp\" (siblings/spouse).\n",
    "    - Encodes the \"Sex\" column into numerical values (0 for male, 1 for female).\n",
    "    - Fills missing \"Embarked\" values with the most common embarkation point ('S').\n",
    "    - Fills missing \"Fare\" values with the mean fare of passengers in the same \"Pclass\". \n",
    "    '''\n",
    "\n",
    "    titanic_df['Name_Title'] = train_titanic_df.Name.apply(lambda x: x.split(',')[1]\n",
    "                                                        .split('.')[0].strip())\n",
    "\n",
    "    age_to_imput = titanic_df.groupby(['Pclass', 'Name_Title'])['Age'].transform('mean')\n",
    "    titanic_df['Age'] = titanic_df['Age'].fillna(age_to_imput)\n",
    "    \n",
    "    titanic_df['Family_Size'] = titanic_df['Parch'] + titanic_df['SibSp']\n",
    "\n",
    "    sex_mapping = {\"male\": 0, \"female\": 1}\n",
    "    titanic_df['Sex'] = titanic_df['Sex'].map(sex_mapping)\n",
    "\n",
    "    titanic_df['Embarked'] = titanic_df['Embarked'].fillna('S')\n",
    "    \n",
    "    fare_to_imput = titanic_df.groupby('Pclass')['Fare'].transform('mean')\n",
    "    titanic_df['Fare'] = titanic_df['Fare'].fillna(fare_to_imput)\n",
    "       \n",
    "    return titanic_df"
   ]
  },
  {
   "cell_type": "markdown",
   "metadata": {},
   "source": [
    "### Process train and test set"
   ]
  },
  {
   "cell_type": "code",
   "execution_count": 105,
   "metadata": {},
   "outputs": [],
   "source": [
    "train_titanic_df = preprocessing(train_titanic_df)\n",
    "test_titanic_df = preprocessing(test_titanic_df)"
   ]
  },
  {
   "cell_type": "markdown",
   "metadata": {},
   "source": [
    "### Show the missing value of train set after processing"
   ]
  },
  {
   "cell_type": "code",
   "execution_count": 106,
   "metadata": {},
   "outputs": [
    {
     "name": "stdout",
     "output_type": "stream",
     "text": [
      "|             |   0 |\n",
      "|:------------|----:|\n",
      "| PassengerId |   0 |\n",
      "| Survived    |   0 |\n",
      "| Pclass      |   0 |\n",
      "| Name        |   0 |\n",
      "| Sex         |   0 |\n",
      "| Age         |   0 |\n",
      "| SibSp       |   0 |\n",
      "| Parch       |   0 |\n",
      "| Ticket      |   0 |\n",
      "| Fare        |   0 |\n",
      "| Cabin       | 687 |\n",
      "| Embarked    |   0 |\n",
      "| Name_Title  |   0 |\n",
      "| Family_Size |   0 |\n"
     ]
    }
   ],
   "source": [
    "print(train_titanic_df.isna().sum().to_markdown())"
   ]
  },
  {
   "cell_type": "code",
   "execution_count": 107,
   "metadata": {},
   "outputs": [],
   "source": [
    "label_enc = LabelEncoder()\n",
    "# train_titanic_df['AgeBin'] = pd.qcut(train_titanic_df['Age'], 4)\n",
    "# train_titanic_df['Age_enc'] = label_enc.fit_transform(train_titanic_df['AgeBin'])\n",
    "\n",
    "# test_titanic_df['AgeBin'] = pd.qcut(test_titanic_df['Age'], 4)\n",
    "# test_titanic_df['Age_enc'] = label_enc.fit_transform(test_titanic_df['AgeBin'])\n",
    "\n",
    "train_titanic_df['FareBin'] = pd.qcut(train_titanic_df['Fare'], 5)\n",
    "train_titanic_df['Fare_enc'] = label_enc.fit_transform(train_titanic_df['FareBin'])\n",
    "\n",
    "test_titanic_df['FareBin'] = pd.qcut(test_titanic_df['Fare'], 5)\n",
    "test_titanic_df['Fare_enc'] = label_enc.fit_transform(test_titanic_df['FareBin'])\n",
    "\n",
    "\n",
    "# Get columns from train\n",
    "cols = pd.get_dummies(train_titanic_df['Embarked'], prefix='Embarked', drop_first=True).columns\n",
    "\n",
    "# Encode both with same columns\n",
    "X_train_embarked_df = pd.get_dummies(train_titanic_df['Embarked'], prefix='Embarked')[cols].astype(int)\n",
    "X_test_embarked_df = pd.get_dummies(test_titanic_df['Embarked'], prefix='Embarked')[cols].astype(int)\n"
   ]
  },
  {
   "cell_type": "code",
   "execution_count": 108,
   "metadata": {},
   "outputs": [
    {
     "data": {
      "text/html": [
       "<div>\n",
       "<style scoped>\n",
       "    .dataframe tbody tr th:only-of-type {\n",
       "        vertical-align: middle;\n",
       "    }\n",
       "\n",
       "    .dataframe tbody tr th {\n",
       "        vertical-align: top;\n",
       "    }\n",
       "\n",
       "    .dataframe thead th {\n",
       "        text-align: right;\n",
       "    }\n",
       "</style>\n",
       "<table border=\"1\" class=\"dataframe\">\n",
       "  <thead>\n",
       "    <tr style=\"text-align: right;\">\n",
       "      <th></th>\n",
       "      <th>Pclass</th>\n",
       "      <th>Sex</th>\n",
       "      <th>Age</th>\n",
       "      <th>Family_Size</th>\n",
       "      <th>Fare_enc</th>\n",
       "      <th>Embarked_Q</th>\n",
       "      <th>Embarked_S</th>\n",
       "    </tr>\n",
       "  </thead>\n",
       "  <tbody>\n",
       "    <tr>\n",
       "      <th>0</th>\n",
       "      <td>3</td>\n",
       "      <td>0</td>\n",
       "      <td>22.0</td>\n",
       "      <td>1</td>\n",
       "      <td>0</td>\n",
       "      <td>0</td>\n",
       "      <td>1</td>\n",
       "    </tr>\n",
       "    <tr>\n",
       "      <th>1</th>\n",
       "      <td>1</td>\n",
       "      <td>1</td>\n",
       "      <td>38.0</td>\n",
       "      <td>1</td>\n",
       "      <td>4</td>\n",
       "      <td>0</td>\n",
       "      <td>0</td>\n",
       "    </tr>\n",
       "    <tr>\n",
       "      <th>2</th>\n",
       "      <td>3</td>\n",
       "      <td>1</td>\n",
       "      <td>26.0</td>\n",
       "      <td>0</td>\n",
       "      <td>1</td>\n",
       "      <td>0</td>\n",
       "      <td>1</td>\n",
       "    </tr>\n",
       "    <tr>\n",
       "      <th>3</th>\n",
       "      <td>1</td>\n",
       "      <td>1</td>\n",
       "      <td>35.0</td>\n",
       "      <td>1</td>\n",
       "      <td>4</td>\n",
       "      <td>0</td>\n",
       "      <td>1</td>\n",
       "    </tr>\n",
       "    <tr>\n",
       "      <th>4</th>\n",
       "      <td>3</td>\n",
       "      <td>0</td>\n",
       "      <td>35.0</td>\n",
       "      <td>0</td>\n",
       "      <td>1</td>\n",
       "      <td>0</td>\n",
       "      <td>1</td>\n",
       "    </tr>\n",
       "  </tbody>\n",
       "</table>\n",
       "</div>"
      ],
      "text/plain": [
       "   Pclass  Sex   Age  Family_Size  Fare_enc  Embarked_Q  Embarked_S\n",
       "0       3    0  22.0            1         0           0           1\n",
       "1       1    1  38.0            1         4           0           0\n",
       "2       3    1  26.0            0         1           0           1\n",
       "3       1    1  35.0            1         4           0           1\n",
       "4       3    0  35.0            0         1           0           1"
      ]
     },
     "execution_count": 108,
     "metadata": {},
     "output_type": "execute_result"
    }
   ],
   "source": [
    "y = train_titanic_df['Survived']\n",
    "passengerId = test_titanic_df['PassengerId']\n",
    "\n",
    "X_train = train_titanic_df[['Pclass', 'Sex',\t'Age', 'Family_Size', 'Fare_enc']]\n",
    "X_test = test_titanic_df[['Pclass', 'Sex',\t'Age', 'Family_Size', 'Fare_enc']]\n",
    "\n",
    "# Ajouter les colonnes encodées aux DataFrames d'origine\n",
    "X_train = pd.concat([X_train, X_train_embarked_df], axis=1)\n",
    "X_test = pd.concat([X_test, X_test_embarked_df], axis=1)\n",
    "\n",
    "X_train.head()"
   ]
  },
  {
   "cell_type": "code",
   "execution_count": 109,
   "metadata": {},
   "outputs": [],
   "source": [
    "std_scaler = StandardScaler()\n",
    "X = std_scaler.fit_transform(X_train)\n",
    "X_test = std_scaler.transform(X_test)"
   ]
  },
  {
   "cell_type": "code",
   "execution_count": 110,
   "metadata": {},
   "outputs": [],
   "source": [
    "X_tr, X_te, y_tr, y_te = train_test_split(X, y, test_size=0.2, random_state=42)"
   ]
  },
  {
   "cell_type": "code",
   "execution_count": 111,
   "metadata": {},
   "outputs": [
    {
     "data": {
      "text/plain": [
       "0.8212290502793296"
      ]
     },
     "execution_count": 111,
     "metadata": {},
     "output_type": "execute_result"
    }
   ],
   "source": [
    "params = {\n",
    "    'n_estimators':[10, 25, 40],\n",
    "    'max_depth':[4, 7, 10],\n",
    "    'min_samples_split': [2, 5, 10],\n",
    "}\n",
    "\n",
    "rfc = RandomForestClassifier(random_state=42)\n",
    "grid_search = GridSearchCV(rfc, param_grid=params, cv=5, n_jobs=-1, scoring='roc_auc')\n",
    "\n",
    "grid_search.fit(X_tr, y_tr)\n",
    "model = grid_search.best_estimator_\n",
    "\n",
    "y_p_test = model.predict(X_te)\n",
    "\n",
    "score = accuracy_score(y_te, y_p_test)\n",
    "score"
   ]
  },
  {
   "cell_type": "code",
   "execution_count": 112,
   "metadata": {},
   "outputs": [],
   "source": [
    "y_pred = model.predict(X_test)"
   ]
  },
  {
   "cell_type": "code",
   "execution_count": 113,
   "metadata": {},
   "outputs": [],
   "source": [
    "df = pd.DataFrame({\n",
    "    'PassengerId': passengerId,\n",
    "    'Survived': y_pred\n",
    "})\n",
    "\n",
    "df.to_csv(\"../data/gender_submission.csv\", index=False)"
   ]
  }
 ],
 "metadata": {
  "kernelspec": {
   "display_name": "titanic",
   "language": "python",
   "name": "python3"
  },
  "language_info": {
   "codemirror_mode": {
    "name": "ipython",
    "version": 3
   },
   "file_extension": ".py",
   "mimetype": "text/x-python",
   "name": "python",
   "nbconvert_exporter": "python",
   "pygments_lexer": "ipython3",
   "version": "3.12.7"
  }
 },
 "nbformat": 4,
 "nbformat_minor": 2
}
